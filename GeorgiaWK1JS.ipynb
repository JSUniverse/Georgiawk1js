{
 "metadata": {
  "language_info": {
   "codemirror_mode": {
    "name": "ipython",
    "version": 3
   },
   "file_extension": ".py",
   "mimetype": "text/x-python",
   "name": "python",
   "nbconvert_exporter": "python",
   "pygments_lexer": "ipython3",
   "version": "3.9.2-final"
  },
  "orig_nbformat": 2,
  "kernelspec": {
   "name": "python3",
   "display_name": "Python 3.9.2 64-bit",
   "metadata": {
    "interpreter": {
     "hash": "a2e0821b7f12024eae72391a9e17f41ce23f42e9b54d2ea397e1a58750580a00"
    }
   }
  }
 },
 "nbformat": 4,
 "nbformat_minor": 2,
 "cells": [
  {
   "cell_type": "code",
   "execution_count": 4,
   "metadata": {},
   "outputs": [
    {
     "output_type": "stream",
     "name": "stdout",
     "text": [
      "Sorry , good luck for next time\n"
     ]
    }
   ],
   "source": [
    "import random       # import random library\n",
    "numberStore = random.randint (1,10)\n",
    "personName = input (\"Hye! What is your name ?\")\n",
    "numberGuess = int (input (personName + \"   Can you guess number between 1 to 10 ?\"))\n",
    "if numberGuess == numberStore:             # Conditions\n",
    "    print ( \"Well done\" +   personName   +\"    You guessed right\")\n",
    "else:       \n",
    "    print (\"Sorry , good luck for next time\")"
   ]
  },
  {
   "cell_type": "code",
   "execution_count": 5,
   "metadata": {},
   "outputs": [
    {
     "output_type": "stream",
     "name": "stdout",
     "text": [
      "Why do you take baths in milk ?   I can't find a cow tall enough for a shower.\n"
     ]
    }
   ],
   "source": [
    "x = int (input (\"Please tell us your favorite number between 1 to 100: ?\" ) )\n",
    "if x <= 33:                                        \n",
    "    print ( \" if vegetarians eat vegetables, what do humanitarians eat?\" )                                                                                                            \n",
    "elif x >=34 and x <=66:\n",
    "           print (\"Hey, man! Please call me a taxi.  Yes, sir. You are a taxi.\" )\n",
    "elif x >=67 and x <=100:\n",
    "           print (\"Why do you take baths in milk ?   I can't find a cow tall enough for a shower.\" )\n",
    "else:       \n",
    "           print ()"
   ]
  },
  {
   "cell_type": "code",
   "execution_count": 6,
   "metadata": {},
   "outputs": [
    {
     "output_type": "stream",
     "name": "stdout",
     "text": [
      "Your favorite meal is salad,fish,ice cream with glass of red wine.\n"
     ]
    }
   ],
   "source": [
    "starter =  input (\"Please tell us about your favorite starter: \" ) \n",
    "meal = input (\"Please tell us your favorite meal: \" ) \n",
    "dessert = input (\"Please tell us your favorite dessert: \" ) \n",
    "drink = input (\"Please tell us your favorite drink: \" ) \n",
    "print (\"Your favorite meal is \" + starter + \",\" + meal + \",\" + dessert +  \" with glass of \" + drink +\".\" )"
   ]
  },
  {
   "cell_type": "code",
   "execution_count": null,
   "metadata": {},
   "outputs": [],
   "source": []
  },
  {
   "cell_type": "code",
   "execution_count": 9,
   "metadata": {},
   "outputs": [
    {
     "output_type": "stream",
     "name": "stdout",
     "text": [
      "The bike value is :1800\nThe bike value is :1600\nThe bike value is :1400\nThe bike value is :1200\nThe bike value is :1000\n\n"
     ]
    }
   ],
   "source": [
    "bikeCost = 2000\n",
    "depreciation = int(2000*0.1)\n",
    "while depreciation <= 1000 :\n",
    "    value =bikeCost-depreciation\n",
    "    print (\"The bike value is :\" + str(value))\n",
    "    depreciation += 200\n",
    "else:\n",
    "    print()"
   ]
  },
  {
   "cell_type": "code",
   "execution_count": 10,
   "metadata": {},
   "outputs": [
    {
     "output_type": "stream",
     "name": "stdout",
     "text": [
      "Select from menu\n",
      "1.Add\n",
      "2.Subtract\n",
      "3.Multiply\n",
      "4.Divide\n",
      "5.Power\n",
      "23.0 / 98.0 = 0.23469387755102042\n"
     ]
    }
   ],
   "source": [
    "def add(x,y):  # This function adds two numbers\n",
    "    return x + y\n",
    "\n",
    "def subtract(x, y):    # This function subtracts two numbers\n",
    "    return x - y\n",
    "\n",
    "def multiply(x, y):  # This function multiplies two numbers\n",
    "    return x * y\n",
    "\n",
    "def divide(x, y):    # This function divides two numbers\n",
    "    return x / y\n",
    "\n",
    "def power(x,y):     # This function power of two numbers\n",
    "    return x**y\n",
    "\n",
    "print(\"Select from menu\")\n",
    "print(\"1.Add\")\n",
    "print(\"2.Subtract\")\n",
    "print(\"3.Multiply\")\n",
    "print(\"4.Divide\")\n",
    "print(\"5.Power\")\n",
    "\n",
    "while True:\n",
    "    operation= input(\"Choose(1/2/3/4/5): \")         # Take input from the user\n",
    "    \n",
    "    if operation in ('1','2', '3', '4','5'):                   # Check if choice is one of the five options\n",
    "        n1=float(input(\"Please enter first no: \"))\n",
    "        n2=float(input(\"Please enter seconf no: \"))\n",
    "\n",
    "        if operation == '1':\n",
    "            print(n1,\"+\", n2,\"=\", add(n1,n2))\n",
    "        elif operation== '2':\n",
    "            print(n1,\"-\", n2,\"=\", subtract(n1,n2))\n",
    "        elif operation == '3':\n",
    "            print(n1,\"*\", n2,\"=\", multiply(n1,n2))\n",
    "        if operation =='4':\n",
    "            print(n1,\"/\", n2,\"=\", divide(n1,n2))\n",
    "        if operation =='5':\n",
    "            print(n1,\"**\",n2,\"=\", power(n1,n2))\n",
    "        break\n",
    "    else:\n",
    "        print(\"Invalid Input\")"
   ]
  },
  {
   "cell_type": "code",
   "execution_count": null,
   "metadata": {},
   "outputs": [],
   "source": []
  }
 ]
}